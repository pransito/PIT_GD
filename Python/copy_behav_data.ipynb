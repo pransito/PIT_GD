{
 "cells": [
  {
   "cell_type": "code",
   "execution_count": 2,
   "metadata": {},
   "outputs": [],
   "source": [
    "# script to copy anonymous behavioral data from S to GD\n",
    "\n",
    "import shutil\n",
    "import errno\n",
    "import os\n",
    "\n",
    "# source and target of the directory tree\n",
    "source = 'S:/AG/AG-Spielsucht2/Daten/VPPG_Daten/Adlershof/Daten/PDT'\n",
    "target = 'C:/Users/genaucka/Google Drive/02_Library/01_Data/PIT_GD/behav'\n",
    "\n"
   ]
  },
  {
   "cell_type": "code",
   "execution_count": 5,
   "metadata": {},
   "outputs": [],
   "source": [
    "def copy(src, dest):\n",
    "    \"\"\"Copy directory tree and ignoring certain patterns\"\"\"\n",
    "    try:\n",
    "        shutil.copytree(src, dest, ignore=shutil.ignore_patterns('scr*.*','pspml','pspml_acc','pspmnl',\n",
    "                                                                'phys_*','*.zip','broken_data','*.rda'))\n",
    "    except OSError as e:\n",
    "        # If the error was caused because the source wasn't a directory\n",
    "        if e.errno == errno.ENOTDIR:\n",
    "            shutil.copy(src, dest)\n",
    "        else:\n",
    "            print('Directory not copied. Error: %s' % e)"
   ]
  },
  {
   "cell_type": "code",
   "execution_count": 6,
   "metadata": {},
   "outputs": [],
   "source": [
    "# running the copying\n",
    "\n",
    "copy(source,target)"
   ]
  },
  {
   "cell_type": "code",
   "execution_count": null,
   "metadata": {},
   "outputs": [],
   "source": []
  }
 ],
 "metadata": {
  "kernelspec": {
   "display_name": "Python 3",
   "language": "python",
   "name": "python3"
  },
  "language_info": {
   "codemirror_mode": {
    "name": "ipython",
    "version": 3
   },
   "file_extension": ".py",
   "mimetype": "text/x-python",
   "name": "python",
   "nbconvert_exporter": "python",
   "pygments_lexer": "ipython3",
   "version": "3.5.5"
  }
 },
 "nbformat": 4,
 "nbformat_minor": 2
}
